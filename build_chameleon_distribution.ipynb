{
 "cells": [
  {
   "cell_type": "code",
   "execution_count": null,
   "id": "f9f486ca",
   "metadata": {},
   "outputs": [],
   "source": [
    "from analyserlib import distributionanalyzer as da\n",
    "\n",
    "import pandas as pd\n",
    "import os.path\n",
    "import numpy as np\n",
    "import matplotlib.pyplot as plt\n",
    "import seaborn as sns\n",
    "import json"
   ]
  },
  {
   "cell_type": "markdown",
   "id": "7724d49e",
   "metadata": {},
   "source": [
    "# Retrieve Chameleon traces"
   ]
  },
  {
   "cell_type": "markdown",
   "id": "a90ebff3",
   "metadata": {},
   "source": [
    "- From disk (adapt the path)"
   ]
  },
  {
   "cell_type": "code",
   "execution_count": null,
   "id": "d99e9a43",
   "metadata": {},
   "outputs": [],
   "source": [
    "# Downloaded and unarchived from https://www.scienceclouds.org/cloud-traces/chameleon-openstack-kvm-cloud-trace-2020-09-04/\n",
    "instance_events_df = pd.read_csv('/usr/local/src/chameleon/new_kvm_instance_events.csv', parse_dates=['START_TIME', 'FINISH_TIME'])"
   ]
  },
  {
   "cell_type": "markdown",
   "id": "c3a79225",
   "metadata": {},
   "source": [
    "# Adapt Chameleon traces"
   ]
  },
  {
   "cell_type": "markdown",
   "id": "de14aa63",
   "metadata": {},
   "source": [
    "Configuration options are originally detailed in json, we start by converting them to a DataFrame"
   ]
  },
  {
   "cell_type": "code",
   "execution_count": null,
   "id": "1f9b9954",
   "metadata": {},
   "outputs": [],
   "source": [
    "distribution = dict()\n",
    "distribution[\"instance\"] = list()\n",
    "distribution[\"cpu\"] = list()\n",
    "distribution[\"mem\"] = list()\n",
    "distribution[\"disk\"] = list()\n",
    "\n",
    "instance_events_df.loc[instance_events_df[\"EVENT\"] == \"compute_start_instance\"]\n",
    "unique_list = instance_events_df[\"INSTANCE_UUID\"].unique()\n",
    "for instance in unique_list:\n",
    "    temp_df = instance_events_df.loc[instance_events_df[\"INSTANCE_UUID\"] == instance]\n",
    "    line_data = json.loads(temp_df[\"PROPERTIES\"].iloc[0].replace(\"'\", '\"'))\n",
    "    distribution[\"instance\"].append(instance)\n",
    "    distribution[\"cpu\"].append(line_data['vcpus'])\n",
    "    distribution[\"mem\"].append(line_data['memory_mb']/1024)\n",
    "    distribution[\"disk\"].append(line_data['root_gb'])\n",
    "    \n",
    "distribution_df = pd.DataFrame(distribution)\n",
    "distribution_df.head()"
   ]
  },
  {
   "cell_type": "markdown",
   "id": "b4b824b1",
   "metadata": {},
   "source": [
    "Then, we convert the list of libvirt events to a DataFrame with VM start and stop timestamps columns"
   ]
  },
  {
   "cell_type": "code",
   "execution_count": null,
   "id": "5fe4ce88",
   "metadata": {},
   "outputs": [],
   "source": [
    "vm_with_start_stop = dict()\n",
    "vm_with_start_stop['instance'] = list()\n",
    "vm_with_start_stop['cpu'] = list()\n",
    "vm_with_start_stop['mem'] = list()\n",
    "vm_with_start_stop['disk'] = list()\n",
    "vm_with_start_stop['start'] = list()\n",
    "vm_with_start_stop['stop'] = list()\n",
    "\n",
    "def register_vm_session(instance, start, stop):\n",
    "    vm_with_start_stop['instance'].append(instance)\n",
    "    vm_with_start_stop['cpu'].append(distribution_df.loc[distribution_df['instance'] == instance]['cpu'].iloc[0])\n",
    "    vm_with_start_stop['mem'].append(distribution_df.loc[distribution_df['instance'] == instance]['mem'].iloc[0])\n",
    "    vm_with_start_stop['disk'].append(distribution_df.loc[distribution_df['instance'] == instance]['disk'].iloc[0])\n",
    "    vm_with_start_stop['start'].append(start)\n",
    "    vm_with_start_stop['stop'].append(stop)\n",
    "\n",
    "unique_list = instance_events_df[\"INSTANCE_UUID\"].unique()\n",
    "max_val = int(instance_events_df['START_SEC'].max())\n",
    "for instance in unique_list:\n",
    "    \n",
    "    sub_pd = instance_events_df.loc[instance_events_df['INSTANCE_UUID'] == instance]\n",
    "    \n",
    "    start, stop = (None, None)\n",
    "    first_loop = True\n",
    "    for index, row in sub_pd.iterrows():\n",
    "        \n",
    "        if row['EVENT'] in ['compute_start_instance','compute__do_build_and_run_instance']:\n",
    "            start = int(row['START_SEC'])\n",
    "            \n",
    "        if row['EVENT'] in ['compute_stop_instance','compute_terminate_instance']:\n",
    "            stop = int(row['START_SEC'])\n",
    "            \n",
    "        if first_loop and (start == None) and (stop != None):  # VM was active before the beginning of dataset\n",
    "            start = 0\n",
    "            register_vm_session(instance, start, stop)\n",
    "            start, stop = (None, None)\n",
    "            first_loop = False\n",
    "            \n",
    "        if (stop is not None) and (start is None): # Disregard multiple shutdowns instructions\n",
    "            stop = None\n",
    "            \n",
    "        if (start is not None) and (stop is not None):\n",
    "            if start < stop:\n",
    "                register_vm_session(instance, start, stop)\n",
    "            else:\n",
    "                print('Unordered start/stop encountered on', instance)\n",
    "            start, stop = (None, None) \n",
    "            first_loop = False\n",
    "    \n",
    "    if (start != None) and (stop == None):\n",
    "        stop = max_val\n",
    "        register_vm_session(instance, start, stop)\n",
    "        \n",
    "vm_df = pd.DataFrame(vm_with_start_stop)\n",
    "vm_df.head()"
   ]
  },
  {
   "cell_type": "markdown",
   "id": "4589dc4d",
   "metadata": {},
   "source": [
    "# Display distribution information"
   ]
  },
  {
   "cell_type": "markdown",
   "id": "582d25d4",
   "metadata": {},
   "source": [
    "We use analyserlib to display configuration options distribution on Chameleon dataset"
   ]
  },
  {
   "cell_type": "code",
   "execution_count": null,
   "id": "103f45fe",
   "metadata": {},
   "outputs": [],
   "source": [
    "timestamp_step = 3600 # 1 hour\n",
    "timestamp_begin = None\n",
    "timestamp_end = None \n",
    "\n",
    "df_cpu, df_mem = da.get_cpu_and_mem_average_distribution(vm_df,\n",
    "                        timestamp_begin=timestamp_begin, timestamp_end=timestamp_end, timestamp_step=timestamp_step,\n",
    "                        col_flavor_cpu='cpu', col_flavor_mem='mem', #column name in your dataset\n",
    "                        col_vm_created='start', col_vm_deleted='stop') #column name in your dataset"
   ]
  },
  {
   "cell_type": "code",
   "execution_count": null,
   "id": "48463111",
   "metadata": {},
   "outputs": [],
   "source": [
    "print(\"CPU distribution observed:\")\n",
    "print(df_cpu)"
   ]
  },
  {
   "cell_type": "code",
   "execution_count": null,
   "id": "267cd75a",
   "metadata": {},
   "outputs": [],
   "source": [
    "print(\"Memory distribution observed:\")\n",
    "print(df_mem)"
   ]
  },
  {
   "cell_type": "markdown",
   "id": "51b855de",
   "metadata": {},
   "source": [
    "VM distribution analysis is now completed. We write associated distribution scenario"
   ]
  },
  {
   "cell_type": "code",
   "execution_count": null,
   "id": "e6b617ce",
   "metadata": {},
   "outputs": [],
   "source": [
    "output_file=\"scenario-vm-distribution.yml\"\n",
    "if not os.path.exists(output_file):\n",
    "    da.convert_distribution_to_scenario(df_cpu, df_mem, \n",
    "                                        col_flavor_cpu='cpu', col_flavor_mem='mem', #columns name in your dataset\n",
    "                                        output_file=output_file)\n",
    "    print(\"Scenario written to\", output_file)    \n",
    "else:\n",
    "    print(\"File already exists! Abording\")"
   ]
  },
  {
   "cell_type": "code",
   "execution_count": null,
   "id": "654f7934",
   "metadata": {},
   "outputs": [],
   "source": [
    "print(\"Reading generated distribution as yaml file\")\n",
    "with open(output_file) as f:\n",
    "    print(f.read())"
   ]
  }
 ],
 "metadata": {
  "kernelspec": {
   "display_name": "Python 3 (ipykernel)",
   "language": "python",
   "name": "python3"
  },
  "language_info": {
   "codemirror_mode": {
    "name": "ipython",
    "version": 3
   },
   "file_extension": ".py",
   "mimetype": "text/x-python",
   "name": "python",
   "nbconvert_exporter": "python",
   "pygments_lexer": "ipython3",
   "version": "3.10.6"
  },
  "vscode": {
   "interpreter": {
    "hash": "d0e8d403adbb6e8a2b2468a5b82010873130b6490f30d987d9dd173194b52e29"
   }
  }
 },
 "nbformat": 4,
 "nbformat_minor": 5
}
